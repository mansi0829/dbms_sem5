{
  "cells": [
    {
      "cell_type": "code",
      "execution_count": null,
      "metadata": {
        "id": "lBpFg8mmLHDv"
      },
      "outputs": [],
      "source": [
        "import numpy as np\n",
        "import matplotlib.pyplot as plt\n",
        "import pandas as pd"
      ]
    },
    {
      "cell_type": "code",
      "execution_count": null,
      "metadata": {
        "colab": {
          "base_uri": "https://localhost:8080/"
        },
        "id": "c132EMggMoB-",
        "outputId": "bcce77d5-2920-460e-adc4-49a0e6c6ce6d"
      },
      "outputs": [
        {
          "name": "stdout",
          "output_type": "stream",
          "text": [
            "<bound method NDFrame.head of                     Food Measure  Grams  Calories  Proein    Fa  Sa.Fa  Fiber  \\\n",
            "0             Cows' milk    1 q.  976.0     660.0    32.0  40.0   36.0    0.0   \n",
            "1              Milk skim    1 q.  984.0     360.0    36.0   NaN    NaN    0.0   \n",
            "2               Buermilk   1 cup  246.0     127.0     9.0   5.0    4.0    0.0   \n",
            "3    Evaporaed, undilued   1 cup  252.0     345.0    16.0  20.0   18.0    0.0   \n",
            "4         Fortified milk  1 cups  237.0     229.0    14.0   7.0    3.0    0.0   \n",
            "..                   ...     ...    ...       ...     ...   ...    ...    ...   \n",
            "333   Frui-flavored soda  12 oz.  346.0     161.0     0.0   0.0    0.0    0.0   \n",
            "334           Ginger ale  12 oz.  346.0     105.0     0.0   0.0    0.0    0.0   \n",
            "335             Roo beer  12 oz.  346.0     140.0     0.0   0.0    0.0    0.0   \n",
            "336               Coffee   1 cup  230.0       3.0     NaN   0.0    0.0    0.0   \n",
            "337                   ea   1 cup  230.0       4.0     0.0   NaN    0.0    0.0   \n",
            "\n",
            "     Carbs                    Caegory     Resul  Unnamed: 11  \n",
            "0     48.0              Dairy producs    Healhy            1  \n",
            "1     52.0              Dairy producs    Healhy            1  \n",
            "2     13.0              Dairy producs    Healhy            1  \n",
            "3     24.0              Dairy producs    Healhy            1  \n",
            "4     20.0              Dairy producs    Healhy            1  \n",
            "..     ...                        ...       ...          ...  \n",
            "333   42.0  Drinks,Alcohol, Beverages  Unhealhy            0  \n",
            "334   28.0  Drinks,Alcohol, Beverages       NaN            0  \n",
            "335   35.0  Drinks,Alcohol, Beverages       NaN            1  \n",
            "336    1.0  Drinks,Alcohol, Beverages  Unhealhy            0  \n",
            "337    1.0  Drinks,Alcohol, Beverages       NaN            0  \n",
            "\n",
            "[338 rows x 12 columns]>\n"
          ]
        }
      ],
      "source": [
        "dataset=pd.read_csv(\"food_nutrient_predict.csv\")\n",
        "print(dataset.head)"
      ]
    },
    {
      "cell_type": "code",
      "execution_count": null,
      "metadata": {
        "id": "_oN_8UrPM3W9"
      },
      "outputs": [],
      "source": [
        "X= dataset.iloc[:,2:9].values\n",
        "y =dataset.iloc[:,-1].values\n"
      ]
    },
    {
      "cell_type": "code",
      "execution_count": null,
      "metadata": {
        "colab": {
          "base_uri": "https://localhost:8080/"
        },
        "id": "sdXOmkpVN69n",
        "outputId": "c36b2e3d-0745-4016-eaba-6c8d615a294a"
      },
      "outputs": [
        {
          "name": "stdout",
          "output_type": "stream",
          "text": [
            "[[976. 660.  32. ...  36.   0.  48.]\n",
            " [984. 360.  36. ...  nan   0.  52.]\n",
            " [246. 127.   9. ...   4.   0.  13.]\n",
            " ...\n",
            " [346. 140.   0. ...   0.   0.  35.]\n",
            " [230.   3.  nan ...   0.   0.   1.]\n",
            " [230.   4.   0. ...   0.   0.   1.]]\n"
          ]
        }
      ],
      "source": [
        "print(X)"
      ]
    },
    {
      "cell_type": "code",
      "execution_count": null,
      "metadata": {
        "colab": {
          "base_uri": "https://localhost:8080/"
        },
        "id": "MsyPaWcYO5Bs",
        "outputId": "469c07d5-da6c-4813-a630-af0d4912ae8e"
      },
      "outputs": [
        {
          "name": "stdout",
          "output_type": "stream",
          "text": [
            "[1 1 1 1 1 0 0 1 1 1 0 1 0 0 1 0 1 1 1 0 1 1 1 0 0 1 0 1 1 0 0 0 1 1 1 0 0\n",
            " 1 0 1 1 1 1 1 1 0 0 1 1 0 1 1 1 0 0 1 1 0 1 1 0 1 0 1 0 0 0 0 0 1 0 0 1 1\n",
            " 1 1 1 1 1 1 0 1 1 1 1 1 0 1 0 1 1 1 0 1 1 1 0 0 0 1 0 1 0 1 1 0 1 0 1 0 0\n",
            " 1 1 1 1 1 1 0 0 1 0 1 1 0 1 1 0 1 1 1 0 0 0 0 1 0 1 1 0 0 1 1 0 1 1 0 0 0\n",
            " 1 0 0 1 0 1 1 0 1 0 1 1 0 1 1 1 1 0 0 1 0 0 1 0 0 1 0 1 0 0 1 0 1 0 1 0 1\n",
            " 1 0 0 1 0 1 1 0 0 1 0 1 1 1 0 1 1 1 1 0 0 1 0 1 0 0 1 0 1 1 0 0 0 0 0 1 0\n",
            " 1 1 0 0 0 0 1 0 0 0 0 1 0 0 1 0 0 0 0 1 0 0 1 1 1 0 1 0 0 0 0 1 1 0 0 0 1\n",
            " 0 1 1 0 1 0 1 0 1 0 0 0 1 1 1 1 1 0 0 1 0 1 0 0 0 0 0 0 1 0 0 0 1 1 1 1 1\n",
            " 1 1 1 0 1 0 0 1 1 1 0 0 0 0 0 1 0 1 0 0 1 0 0 0 1 0 1 1 0 1 1 0 1 0 0 0 0\n",
            " 0 0 1 0 0]\n"
          ]
        }
      ],
      "source": [
        "print(y)"
      ]
    },
    {
      "cell_type": "code",
      "execution_count": null,
      "metadata": {
        "id": "kWIwuksjPDzB"
      },
      "outputs": [],
      "source": [
        "from sklearn.model_selection import train_test_split\n",
        "from sklearn.impute import SimpleImputer\n",
        "imp = SimpleImputer(missing_values= np.nan, strategy='mean')\n",
        "\n",
        "imp = imp.fit(X)\n",
        "imp = imp.transform(X)"
      ]
    },
    {
      "cell_type": "code",
      "execution_count": null,
      "metadata": {
        "colab": {
          "base_uri": "https://localhost:8080/"
        },
        "id": "po98gUBmicXc",
        "outputId": "e2dfe503-366d-4b43-a45d-b335efc51d38"
      },
      "outputs": [
        {
          "name": "stdout",
          "output_type": "stream",
          "text": [
            "[[976.         660.          32.         ...  36.           0.\n",
            "   48.        ]\n",
            " [984.         360.          36.         ...   6.74613003   0.\n",
            "   52.        ]\n",
            " [246.         127.           9.         ...   4.           0.\n",
            "   13.        ]\n",
            " ...\n",
            " [346.         140.           0.         ...   0.           0.\n",
            "   35.        ]\n",
            " [230.           3.           9.61409396 ...   0.           0.\n",
            "    1.        ]\n",
            " [230.           4.           0.         ...   0.           0.\n",
            "    1.        ]]\n"
          ]
        }
      ],
      "source": [
        "print(imp)"
      ]
    },
    {
      "cell_type": "code",
      "execution_count": null,
      "metadata": {
        "id": "xGxLT4D7XIZt"
      },
      "outputs": [],
      "source": [
        "from sklearn.model_selection import train_test_split\n",
        "X_train,X_test,y_train,y_test=train_test_split(imp,y,test_size=0.1,random_state=0)"
      ]
    },
    {
      "cell_type": "code",
      "execution_count": null,
      "metadata": {
        "colab": {
          "base_uri": "https://localhost:8080/"
        },
        "id": "cCpCxrrDXY6q",
        "outputId": "db1cdc90-6754-440d-c5a5-e1059e77eaa4"
      },
      "outputs": [
        {
          "data": {
            "text/plain": [
              "LogisticRegression()"
            ]
          },
          "execution_count": 89,
          "metadata": {},
          "output_type": "execute_result"
        }
      ],
      "source": [
        "from sklearn.linear_model import LogisticRegression\n",
        "classifier=LogisticRegression()\n",
        "classifier.fit(X_train,y_train)"
      ]
    },
    {
      "cell_type": "code",
      "execution_count": null,
      "metadata": {
        "colab": {
          "base_uri": "https://localhost:8080/"
        },
        "id": "ff7M_QGLkewM",
        "outputId": "5a5bc7dc-32fe-48b5-cf3a-9acc8f5193d2"
      },
      "outputs": [
        {
          "name": "stdout",
          "output_type": "stream",
          "text": [
            "[[1 1]\n",
            " [1 0]\n",
            " [0 0]\n",
            " [1 1]\n",
            " [0 1]\n",
            " [0 0]\n",
            " [1 0]\n",
            " [0 1]\n",
            " [1 0]\n",
            " [0 1]\n",
            " [1 1]\n",
            " [0 1]\n",
            " [1 0]\n",
            " [1 1]\n",
            " [0 0]\n",
            " [1 0]\n",
            " [0 0]\n",
            " [1 1]\n",
            " [1 1]\n",
            " [1 1]\n",
            " [0 0]\n",
            " [0 0]\n",
            " [1 1]\n",
            " [1 1]\n",
            " [0 1]\n",
            " [0 0]\n",
            " [0 0]\n",
            " [1 0]\n",
            " [0 1]\n",
            " [0 1]\n",
            " [0 1]\n",
            " [0 1]\n",
            " [0 0]\n",
            " [1 1]]\n"
          ]
        }
      ],
      "source": [
        "y_pred=classifier.predict(X_test)\n",
        "print(np.concatenate((y_pred.reshape(len(y_pred),1),y_test.reshape(len(y_test),1)),1))"
      ]
    },
    {
      "cell_type": "code",
      "execution_count": null,
      "metadata": {
        "colab": {
          "base_uri": "https://localhost:8080/"
        },
        "id": "45WjnjUKkXZl",
        "outputId": "bd00d50e-fa59-4cbc-ff73-78411c450be4"
      },
      "outputs": [
        {
          "name": "stdout",
          "output_type": "stream",
          "text": [
            "[[ 9  6]\n",
            " [ 9 10]]\n"
          ]
        },
        {
          "data": {
            "text/plain": [
              "0.5588235294117647"
            ]
          },
          "execution_count": 92,
          "metadata": {},
          "output_type": "execute_result"
        }
      ],
      "source": [
        "from sklearn.metrics import confusion_matrix,accuracy_score\n",
        "cm=confusion_matrix(y_test,y_pred)\n",
        "print(cm)\n",
        "accuracy_score(y_test,y_pred)"
      ]
    }
  ],
  "metadata": {
    "colab": {
      "provenance": []
    },
    "kernelspec": {
      "display_name": "Python 3.10.2 64-bit",
      "language": "python",
      "name": "python3"
    },
    "language_info": {
      "name": "python",
      "version": "3.10.2"
    },
    "vscode": {
      "interpreter": {
        "hash": "369f2c481f4da34e4445cda3fffd2e751bd1c4d706f27375911949ba6bb62e1c"
      }
    }
  },
  "nbformat": 4,
  "nbformat_minor": 0
}
